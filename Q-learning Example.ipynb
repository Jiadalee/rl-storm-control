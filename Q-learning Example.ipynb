{
 "cells": [
  {
   "cell_type": "markdown",
   "metadata": {},
   "source": [
    "# Q-Learning Example"
   ]
  },
  {
   "cell_type": "markdown",
   "metadata": {
    "collapsed": true
   },
   "source": [
    "![example-problem](i1.png)"
   ]
  },
  {
   "cell_type": "markdown",
   "metadata": {},
   "source": [
    "Simple example to understand the application of Q-learing algorithm"
   ]
  },
  {
   "cell_type": "markdown",
   "metadata": {},
   "source": [
    "Reward Matrix \n",
    "$$ R = \\begin{bmatrix}  ------ Action ------ \\\\\n",
    "| \\\\\n",
    "| \\\\\n",
    "states \\\\\n",
    "| \\\\\n",
    "| \\\\\n",
    "\\end{bmatrix} $$\n"
   ]
  },
  {
   "cell_type": "markdown",
   "metadata": {},
   "source": [
    "The above example can have a reward function that takes the following form. Agent is rewarded for coming out of the building with +100 and 0 for the rest of the outcomes"
   ]
  },
  {
   "cell_type": "code",
   "execution_count": 2,
   "metadata": {
    "collapsed": true
   },
   "outputs": [],
   "source": [
    "import numpy as np \n",
    "import scipy as spy\n",
    "import random"
   ]
  },
  {
   "cell_type": "code",
   "execution_count": 3,
   "metadata": {
    "collapsed": false
   },
   "outputs": [],
   "source": [
    "R=np.matrix([[-1,-1,-1,-1,0,-1]\n",
    "           ,[-1,-1,-1,0,-1,100]\n",
    "           ,[-1,-1,-1,0,-1,-1]\n",
    "           ,[-1,0,0,-1,0,-1]\n",
    "           ,[0,-1,-1,0,-1,100]\n",
    "           ,[-1,0,-1,-1,0,100]])"
   ]
  },
  {
   "cell_type": "markdown",
   "metadata": {},
   "source": [
    "![states](i2.png)"
   ]
  },
  {
   "cell_type": "markdown",
   "metadata": {},
   "source": [
    "-1 indicates the restrictive movement between states"
   ]
  },
  {
   "cell_type": "markdown",
   "metadata": {},
   "source": [
    "Q is the brain matrix of the agent\n"
   ]
  },
  {
   "cell_type": "code",
   "execution_count": 133,
   "metadata": {
    "collapsed": false
   },
   "outputs": [],
   "source": [
    "Q=np.zeros(shape=(6,6))\n",
    "for i in range(0,100):\n",
    "    initial_state=np.random.randint(0,6)\n",
    "    goal = 5\n",
    "    if initial_state==goal:\n",
    "        j=np.array([])\n",
    "        k=0\n",
    "        for k in range(0,6):\n",
    "            if R[initial_state,k] >= 0:\n",
    "                j=np.append(j,k)\n",
    "        action=int(np.random.choice(j,1))\n",
    "        Q[initial_state,action]=R[initial_state,action] + 0.9 * np.amax(Q[action,])\n",
    "        initial_state=action\n",
    "    else:\n",
    "        while initial_state != goal:\n",
    "            j=np.array([])\n",
    "            k=0\n",
    "            for k in range(0,6):\n",
    "                if R[initial_state,k] >= 0:\n",
    "                    j=np.append(j,k)\n",
    "            action=int(np.random.choice(j,1))\n",
    "            Q[initial_state,action]=R[initial_state,action] + 0.9 * np.amax(Q[action,])\n",
    "            initial_state=action"
   ]
  },
  {
   "cell_type": "code",
   "execution_count": 136,
   "metadata": {
    "collapsed": false
   },
   "outputs": [
    {
     "name": "stdout",
     "output_type": "stream",
     "text": [
      "[[ 0.          0.          0.          0.          0.95431641  0.        ]\n",
      " [ 0.          0.          0.          0.85888477  0.          1.06035157]\n",
      " [ 0.          0.          0.          0.85888477  0.          0.        ]\n",
      " [ 0.          0.95431641  0.7729963   0.          0.95431641  0.        ]\n",
      " [ 0.85888477  0.          0.          0.85888477  0.          1.06035157]\n",
      " [ 0.          0.90000522  0.          0.          0.90000522  1.0000058 ]]\n"
     ]
    }
   ],
   "source": [
    "print Q/623.65"
   ]
  },
  {
   "cell_type": "code",
   "execution_count": null,
   "metadata": {
    "collapsed": true
   },
   "outputs": [],
   "source": []
  }
 ],
 "metadata": {
  "kernelspec": {
   "display_name": "Python 2",
   "language": "python",
   "name": "python2"
  },
  "language_info": {
   "codemirror_mode": {
    "name": "ipython",
    "version": 2
   },
   "file_extension": ".py",
   "mimetype": "text/x-python",
   "name": "python",
   "nbconvert_exporter": "python",
   "pygments_lexer": "ipython2",
   "version": "2.7.10"
  }
 },
 "nbformat": 4,
 "nbformat_minor": 1
}
