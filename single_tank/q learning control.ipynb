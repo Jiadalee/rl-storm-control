{
 "cells": [
  {
   "cell_type": "markdown",
   "metadata": {},
   "source": [
    "# Q Learning \n",
    "## Control of water level in tank using q learning"
   ]
  },
  {
   "cell_type": "code",
   "execution_count": 1,
   "metadata": {
    "collapsed": true
   },
   "outputs": [],
   "source": [
    "from __future__ import print_function\n",
    "import numpy as np\n",
    "import matplotlib.pyplot as plt\n",
    "import seaborn"
   ]
  },
  {
   "cell_type": "markdown",
   "metadata": {},
   "source": [
    "### Pond simulation model"
   ]
  },
  {
   "cell_type": "code",
   "execution_count": 2,
   "metadata": {
    "collapsed": true
   },
   "outputs": [],
   "source": [
    "class pond:\n",
    "    def __init__(self,area,max_height,inital_height=0.0):\n",
    "        self.area = area\n",
    "        self.initial_height = inital_height\n",
    "        self.volume = area*inital_height\n",
    "        self.max_height = max_height\n",
    "        self.max_volume = area*max_height\n",
    "        self.overflow = 0\n",
    "        self.height = float(self.volume)/float(self.area)\n",
    "\n",
    "    def timestep(self,dt):\n",
    "        self.timestep=dt\n",
    "\n",
    "    def qout(self,percent_opening):\n",
    "        if percent_opening >=0 and percent_opening <= 1:\n",
    "            return np.sqrt(2*9.81*self.volume/self.area)*percent_opening\n",
    "        else:\n",
    "            raise ValueError('A very specific bad thing happened with the gate opening, its not in 1 to 0')\n",
    "\n",
    "    def volume_update(self,h):\n",
    "        self.volume = self.volume + h*self.area\n",
    "        self.height = float(self.volume)/float(self.area)\n",
    "        if self.volume < 0:\n",
    "            self.volume = 0\n",
    "        if self.volume > self.max_volume:\n",
    "            self.overflow = 1\n",
    "            self.volume = self.max_volume\n",
    "        else:\n",
    "            self.overflow = 0\n",
    "\n",
    "    def dhdt(self,qin,qout):\n",
    "        h = float(qin-qout) * 1/float(self.area) * float(self.timestep)\n",
    "        self.volume_update(h)\n",
    "\n",
    "def reward12(height):\n",
    "    if height >= 1.0 and height <= 1.2:\n",
    "        return 1.0\n",
    "    else:\n",
    "        return -1.0\n",
    "\n",
    "\n",
    "def state2reality(pond_class, Q_matrix):\n",
    "    \"\"\"Discrete Ponds\"\"\"\n",
    "    height_discrete_value = Q_matrix.shape\n",
    "    index_discrete = pond_class.max_height/(height_discrete_value[0]-1)\n",
    "    height = pond_class.height/index_discrete\n",
    "    height = int(np.floor(height))\n",
    "    return height\n",
    "\n",
    "\n",
    "# Action function\n",
    "\n",
    "def epsi_greedy(matrix, epsi, state_system):\n",
    "    \"\"\"Action Choice Based on Greedy Search\"\"\"\n",
    "    epsilon = epsi\n",
    "    if np.random.rand() < epsilon:\n",
    "        action_system = np.random.randint(0, 10)\n",
    "    else:\n",
    "        action_system = np.argmax(matrix[state_system, ])\n",
    "    return action_system/10.0\n",
    "\n",
    "# #--------------- IMPLEMENTATION -----------###\n",
    "\n",
    "q_martix = np.zeros(shape=(101, 11))\n",
    "test_pond = pond(100.0, 2.0)\n",
    "test_pond.timestep = 1\n",
    "\n",
    "volume = []\n",
    "flow = []\n",
    "reward = []\n",
    "re = []"
   ]
  },
  {
   "cell_type": "markdown",
   "metadata": {},
   "source": [
    "### q learning algorithm"
   ]
  },
  {
   "cell_type": "code",
   "execution_count": 3,
   "metadata": {},
   "outputs": [
    {
     "name": "stdout",
     "output_type": "stream",
     "text": [
      "episode,  0\n",
      "episode,  100\n",
      "episode,  200\n",
      "episode,  300\n",
      "episode,  400\n",
      "episode,  500\n",
      "episode,  600\n",
      "episode,  700\n",
      "episode,  800\n",
      "episode,  900\n",
      "episode,  1000\n",
      "episode,  1100\n",
      "episode,  1200\n",
      "episode,  1300\n",
      "episode,  1400\n",
      "episode,  1500\n",
      "episode,  1600\n",
      "episode,  1700\n",
      "episode,  1800\n",
      "episode,  1900\n"
     ]
    }
   ],
   "source": [
    "EPISODES = 2000\n",
    "for i in range(0, EPISODES):\n",
    "    # Initialize new episode\n",
    "    state = 0\n",
    "    test_pond.volume = 0\n",
    "    test_pond.overflow = 0\n",
    "    epsi = 0.7\n",
    "    j = 0   # Iterator to break infinite loop in episode\n",
    "    reward = []\n",
    "    h = []\n",
    "    if i%100 == 0:\n",
    "        print(\"episode, \", i)\n",
    "    while test_pond.overflow == 0:\n",
    "        # LOOP BREAKER #\n",
    "        j = j + 1\n",
    "        if j > 1000:\n",
    "            break\n",
    "        # ------ INFLOW ----- #\n",
    "        qin = 2\n",
    "        # Q - Learning #\n",
    "        # 1. Chooses action\n",
    "        action = epsi_greedy(q_martix, epsi, state)\n",
    "        # 2. Implements Action\n",
    "        qout = test_pond.qout(action)\n",
    "        test_pond.dhdt(qin, qout)\n",
    "        # 3. Receive the reward for the action\n",
    "        r = reward12(test_pond.height)\n",
    "        reward.append(r)\n",
    "        # 4. Identify the state and action in terms of Q matrix\n",
    "        state_n = state2reality(test_pond, q_martix)\n",
    "        action = int(np.floor(action*10))\n",
    "        # 5. Update the Q matrix\n",
    "        q_martix[state, action] = q_martix[state, action]+0.005*(r + 0.6*np.max(q_martix[state_n, ])-q_martix[state, action])\n",
    "        # 6. Update the state\n",
    "        state = state_n\n",
    "        # 7. Record the changes in the behavior\n",
    "        #flow.append(qout)\n",
    "        h.append(test_pond.height)\n",
    "    volume.append(np.mean(h))\n",
    "    re.append(np.mean(reward))"
   ]
  },
  {
   "cell_type": "code",
   "execution_count": 5,
   "metadata": {
    "collapsed": true
   },
   "outputs": [],
   "source": [
    "%matplotlib inline"
   ]
  },
  {
   "cell_type": "markdown",
   "metadata": {},
   "source": [
    "### q learning simulation runs with constant inflow"
   ]
  },
  {
   "cell_type": "code",
   "execution_count": 6,
   "metadata": {},
   "outputs": [
    {
     "data": {
      "image/png": "[encoded data removed]",
      "text/plain": [
       "<matplotlib.figure.Figure at 0x1160ba208>"
      ]
     },
     "metadata": {},
     "output_type": "display_data"
    },
    {
     "data": {
      "image/png": "[encoded data removed]",
      "text/plain": [
       "<matplotlib.figure.Figure at 0x1162f3630>"
      ]
     },
     "metadata": {},
     "output_type": "display_data"
    }
   ],
   "source": [
    "plt.figure(1)\n",
    "plt.plot(h)\n",
    "plt.title(\"Pond Height\")\n",
    "plt.savefig(\"pond_height.jpeg\")\n",
    "\n",
    "plt.figure(2)\n",
    "plt.plot(re)\n",
    "plt.title(\"Mean Rewards\")\n",
    "plt.savefig(\"mean_rewards.jpeg\")"
   ]
  },
  {
   "cell_type": "code",
   "execution_count": null,
   "metadata": {
    "collapsed": true
   },
   "outputs": [],
   "source": []
  }
 ],
 "metadata": {
  "kernelspec": {
   "display_name": "Python 3",
   "language": "python",
   "name": "python3"
  },
  "language_info": {
   "codemirror_mode": {
    "name": "ipython",
    "version": 3
   },
   "file_extension": ".py",
   "mimetype": "text/x-python",
   "name": "python",
   "nbconvert_exporter": "python",
   "pygments_lexer": "ipython3",
   "version": "3.6.2"
  }
 },
 "nbformat": 4,
 "nbformat_minor": 2
}
