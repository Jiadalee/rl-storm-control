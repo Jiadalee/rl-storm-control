{
 "cells": [
  {
   "cell_type": "code",
   "execution_count": 2,
   "metadata": {
    "collapsed": false
   },
   "outputs": [],
   "source": [
    "import numpy as np\n",
    "import scipy as spy\n",
    "from scipy import integrate\n",
    "import matplotlib.pyplot as plt\n",
    "%matplotlib inline"
   ]
  },
  {
   "cell_type": "code",
   "execution_count": 13,
   "metadata": {
    "collapsed": false
   },
   "outputs": [],
   "source": [
    "class pond:\n",
    "    def __init__(self,area,inital_height,max_height):\n",
    "        self.area = area\n",
    "        self.initial_height = inital_height\n",
    "        self.volume = area*inital_height\n",
    "        self.max_volume = area*max_height\n",
    "\n",
    "    def qout(self,percent_opening):\n",
    "        if self.volume < 0:\n",
    "            v = 0\n",
    "        else:\n",
    "            v = self.volume\n",
    "        return np.sqrt(2*9.81*v/self.area)*percent_opening\n",
    "\n",
    "    def volume_update(self,h):\n",
    "        self.volume = self.volume + h*self.area\n",
    "        if self.volume > self.max_volume:\n",
    "            self.volume = self.max_volume"
   ]
  },
  {
   "cell_type": "code",
   "execution_count": 14,
   "metadata": {
    "collapsed": true
   },
   "outputs": [],
   "source": [
    "def change(t,h,qin,qout):\n",
    "    return (qin-qout)/10"
   ]
  },
  {
   "cell_type": "code",
   "execution_count": 15,
   "metadata": {
    "collapsed": false
   },
   "outputs": [],
   "source": [
    "def state2reality(volume):\n",
    "    height = volume/100\n",
    "    if height <= 0.9 and height >=0:\n",
    "        h=int(10*np.round_(height,1))\n",
    "    else:\n",
    "        h=9\n",
    "    return h"
   ]
  },
  {
   "cell_type": "code",
   "execution_count": 16,
   "metadata": {
    "collapsed": false
   },
   "outputs": [],
   "source": [
    "def reward(h,valve_position):\n",
    "    area = 1\n",
    "    cd = 1\n",
    "    \n",
    "    qout = np.sqrt(2*9.81*h) * valve_position * area * cd\n",
    "    \n",
    "    if h >= 0.7 and h <=0.8:\n",
    "        if qout >= 0:\n",
    "            return 100\n",
    "        else:\n",
    "            return 0\n",
    "    else:\n",
    "        return 0"
   ]
  },
  {
   "cell_type": "code",
   "execution_count": 17,
   "metadata": {
    "collapsed": true
   },
   "outputs": [],
   "source": [
    "Q=np.zeros(shape=(10,10))\n",
    "for i in range(0,10000):\n",
    "    action = np.random.randint(0,10)\n",
    "    state = np.random.randint(0,10)\n",
    "    Q[state,action] = reward(state/10.0,action/10.0) +  0.6* np.amax(Q[state,])\n",
    "\n",
    "Q = Q/np.amax(Q)"
   ]
  },
  {
   "cell_type": "code",
   "execution_count": 18,
   "metadata": {
    "collapsed": false
   },
   "outputs": [
    {
     "data": {
      "text/plain": [
       "array([[ 0.,  0.,  0.,  0.,  0.,  0.,  0.,  0.,  0.,  0.],\n",
       "       [ 0.,  0.,  0.,  0.,  0.,  0.,  0.,  0.,  0.,  0.],\n",
       "       [ 0.,  0.,  0.,  0.,  0.,  0.,  0.,  0.,  0.,  0.],\n",
       "       [ 0.,  0.,  0.,  0.,  0.,  0.,  0.,  0.,  0.,  0.],\n",
       "       [ 0.,  0.,  0.,  0.,  0.,  0.,  0.,  0.,  0.,  0.],\n",
       "       [ 0.,  0.,  0.,  0.,  0.,  0.,  0.,  0.,  0.,  0.],\n",
       "       [ 0.,  0.,  0.,  0.,  0.,  0.,  0.,  0.,  0.,  0.],\n",
       "       [ 1.,  1.,  1.,  1.,  1.,  1.,  1.,  1.,  1.,  1.],\n",
       "       [ 1.,  1.,  1.,  1.,  1.,  1.,  1.,  1.,  1.,  1.],\n",
       "       [ 0.,  0.,  0.,  0.,  0.,  0.,  0.,  0.,  0.,  0.]])"
      ]
     },
     "execution_count": 18,
     "metadata": {},
     "output_type": "execute_result"
    }
   ],
   "source": [
    "Q"
   ]
  },
  {
   "cell_type": "code",
   "execution_count": 19,
   "metadata": {
    "collapsed": false
   },
   "outputs": [
    {
     "data": {
      "image/png": "[encoded data removed]",
      "text/plain": [
       "<matplotlib.figure.Figure at 0x104b43290>"
      ]
     },
     "metadata": {},
     "output_type": "display_data"
    }
   ],
   "source": [
    "r = spy.integrate.ode(change)\n",
    "r.set_integrator('dopri5')\n",
    "t0=0;h0=0\n",
    "r.set_initial_value(0,t0)\n",
    "dt=1;y=[];k=0\n",
    "\n",
    "p = pond(100,0,2)\n",
    "\n",
    "decision = []\n",
    "while k < 100:\n",
    "    k=k+1\n",
    "    qin=0.1\n",
    "    state = state2reality(p.volume)\n",
    "    percent_opening = np.argmax(Q[int(state),])\n",
    "    qout=p.qout(percent_opening)\n",
    "    qout = float(qout)\n",
    "    decision.append(qout)\n",
    "    r.set_f_params(qin,qout)\n",
    "    r.integrate(r.t + dt)\n",
    "    x=r.y\n",
    "    p.volume_update(x)\n",
    "    y.append(p.volume/p.area)\n",
    "\n",
    "plt.subplot(1,2,1)  \n",
    "plt.plot(y)\n",
    "plt.subplot(1,2,2)\n",
    "plt.plot(decision)\n",
    "plt.show()"
   ]
  },
  {
   "cell_type": "code",
   "execution_count": null,
   "metadata": {
    "collapsed": true
   },
   "outputs": [],
   "source": []
  },
  {
   "cell_type": "code",
   "execution_count": null,
   "metadata": {
    "collapsed": true
   },
   "outputs": [],
   "source": []
  }
 ],
 "metadata": {
  "kernelspec": {
   "display_name": "Python 2",
   "language": "python",
   "name": "python2"
  },
  "language_info": {
   "codemirror_mode": {
    "name": "ipython",
    "version": 2
   },
   "file_extension": ".py",
   "mimetype": "text/x-python",
   "name": "python",
   "nbconvert_exporter": "python",
   "pygments_lexer": "ipython2",
   "version": "2.7.10"
  }
 },
 "nbformat": 4,
 "nbformat_minor": 1
}
