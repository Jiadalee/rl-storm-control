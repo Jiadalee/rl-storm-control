{
 "cells": [
  {
   "cell_type": "code",
   "execution_count": 39,
   "metadata": {
    "collapsed": true
   },
   "outputs": [],
   "source": [
    "def pond(t,h):\n",
    "    return 1*h"
   ]
  },
  {
   "cell_type": "code",
   "execution_count": 40,
   "metadata": {
    "collapsed": true
   },
   "outputs": [],
   "source": [
    "import scipy as spy\n",
    "from scipy import integrate\n",
    "import matplotlib.pyplot as plt\n",
    "import numpy as np"
   ]
  },
  {
   "cell_type": "code",
   "execution_count": 42,
   "metadata": {
    "collapsed": false
   },
   "outputs": [],
   "source": [
    "class pond:\n",
    "    def __init__(self,area,height_ini,volume):\n",
    "        self.area = area\n",
    "        self.height_ini = height_ini\n",
    "        self.volume = volume\n",
    "\n",
    "    def volume_add(self,v):\n",
    "        self.volume = v + self.area*self.height_ini\n",
    "\n",
    "    def qout(self,percent_opening):\n",
    "        qout = np.sqrt(2*9.81*self.volume/self.area) * percent_opening\n",
    "        return qout\n",
    "\n",
    "def water_level_change(t,h,qin):\n",
    "    dhdt = qin-0/100\n",
    "dt = 1 # Time Step\n",
    "end_time = 1000 # Simulation end time\n",
    "time_steps = 1000 # Time Steps\n",
    "start_time = 0 # Start timeh=[]\n",
    "a = pond(10,0.01,0.1)\n",
    "fun = spy.integrate.ode(water_level_change)\n",
    "fun.set_integrator('dopri5')\n",
    "fun.set_initial_value(a.height_ini,start_time)\n",
    "h=[]\n",
    "num_steps=123\n",
    "k=1\n",
    "while k < num_steps:\n",
    "    qin=np.random.randint(0,10)\n",
    "    fun.set_f_params(0)\n",
    "    (fun.integrate(fun.t + dt ))\n",
    "    h.append(fun.y)\n",
    "    a.volume_add(fun.y*a.area)\n",
    "    k=k+1"
   ]
  },
  {
   "cell_type": "code",
   "execution_count": null,
   "metadata": {
    "collapsed": false
   },
   "outputs": [],
   "source": []
  },
  {
   "cell_type": "code",
   "execution_count": null,
   "metadata": {
    "collapsed": false
   },
   "outputs": [],
   "source": []
  },
  {
   "cell_type": "code",
   "execution_count": null,
   "metadata": {
    "collapsed": true
   },
   "outputs": [],
   "source": []
  }
 ],
 "metadata": {
  "kernelspec": {
   "display_name": "Python 2",
   "language": "python",
   "name": "python2"
  },
  "language_info": {
   "codemirror_mode": {
    "name": "ipython",
    "version": 2
   },
   "file_extension": ".py",
   "mimetype": "text/x-python",
   "name": "python",
   "nbconvert_exporter": "python",
   "pygments_lexer": "ipython2",
   "version": "2.7.10"
  }
 },
 "nbformat": 4,
 "nbformat_minor": 1
}
